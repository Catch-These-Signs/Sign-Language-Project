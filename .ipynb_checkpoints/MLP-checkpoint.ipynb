{
 "cells": [
  {
   "cell_type": "code",
   "execution_count": 92,
   "metadata": {},
   "outputs": [],
   "source": [
    "import os\n",
    "import numpy as np\n",
    "import pandas as pd\n",
    "import tensorflow.compat.v1 as tf\n",
    "tf.disable_v2_behavior()\n",
    "import matplotlib.pyplot as plt\n",
    "\n",
    "import warnings\n",
    "warnings.filterwarnings('ignore')"
   ]
  },
  {
   "cell_type": "code",
   "execution_count": 93,
   "metadata": {},
   "outputs": [],
   "source": [
    "# GET DATA\n",
    "os.chdir(\"C:/users/devon/documents/github/sign-language-project/project data/sign_mnist_train.csv\")\n",
    "data = pd.read_csv(\"sign_mnist_train.csv\")\n",
    "os.chdir(\"C:/users/devon/documents/github/sign-language-project/project data/sign_mnist_test.csv\")\n",
    "testing = pd.read_csv(\"sign_mnist_test.csv\")"
   ]
  },
  {
   "cell_type": "code",
   "execution_count": 94,
   "metadata": {
    "pycharm": {
     "is_executing": false
    }
   },
   "outputs": [
    {
     "name": "stdout",
     "output_type": "stream",
     "text": [
      "   label  pixel1  pixel2  pixel3  pixel4  pixel5  pixel6  pixel7  pixel8  \\\n",
      "0      3     107     118     127     134     139     143     146     150   \n",
      "1      6     155     157     156     156     156     157     156     158   \n",
      "2      2     187     188     188     187     187     186     187     188   \n",
      "3      2     211     211     212     212     211     210     211     210   \n",
      "4     13     164     167     170     172     176     179     180     184   \n",
      "\n",
      "   pixel9  ...  pixel775  pixel776  pixel777  pixel778  pixel779  pixel780  \\\n",
      "0     153  ...       207       207       207       207       206       206   \n",
      "1     158  ...        69       149       128        87        94       163   \n",
      "2     187  ...       202       201       200       199       198       199   \n",
      "3     210  ...       235       234       233       231       230       226   \n",
      "4     185  ...        92       105       105       108       133       163   \n",
      "\n",
      "   pixel781  pixel782  pixel783  pixel784  \n",
      "0       206       204       203       202  \n",
      "1       175       103       135       149  \n",
      "2       198       195       194       195  \n",
      "3       225       222       229       163  \n",
      "4       157       163       164       179  \n",
      "\n",
      "[5 rows x 785 columns]\n"
     ]
    }
   ],
   "source": [
    "# VIEW RAW DATA\n",
    "print(data.head())"
   ]
  },
  {
   "cell_type": "code",
   "execution_count": 95,
   "metadata": {
    "scrolled": true
   },
   "outputs": [
    {
     "name": "stdout",
     "output_type": "stream",
     "text": [
      "Feature matrix:\n",
      " [[107 118 127 ... 204 203 202]\n",
      " [155 157 156 ... 103 135 149]\n",
      " [187 188 188 ... 195 194 195]\n",
      " ...\n",
      " [174 174 174 ... 202 200 200]\n",
      " [177 181 184 ...  64  87  93]\n",
      " [179 180 180 ... 205 209 215]] \n",
      "\n"
     ]
    }
   ],
   "source": [
    "# SHOW MATRIX\n",
    "x = data.iloc[:, 1:].values\n",
    "print('Feature matrix:\\n', x, '\\n')"
   ]
  },
  {
   "cell_type": "code",
   "execution_count": 96,
   "metadata": {},
   "outputs": [
    {
     "name": "stdout",
     "output_type": "stream",
     "text": [
      "Labels:\n",
      " [ 3  6  2 ... 18 17 23]\n"
     ]
    }
   ],
   "source": [
    "# SHOW LABELS\n",
    "y = data.iloc[:, :1].values.flatten()\n",
    "print('Labels:\\n', y)"
   ]
  },
  {
   "cell_type": "code",
   "execution_count": 97,
   "metadata": {},
   "outputs": [
    {
     "data": {
      "image/png": "[encoded data removed]",
      "text/plain": [
       "<Figure size 432x288 with 1 Axes>"
      ]
     },
     "metadata": {
      "needs_background": "light"
     },
     "output_type": "display_data"
    }
   ],
   "source": [
    "# VIEW A PIECE OF THE DATA\n",
    "plt.title(str(y[100]))\n",
    "plt.imshow(x[100].reshape(28, 28), cmap = 'gray')\n",
    "plt.show()"
   ]
  },
  {
   "cell_type": "code",
   "execution_count": 98,
   "metadata": {},
   "outputs": [
    {
     "name": "stdout",
     "output_type": "stream",
     "text": [
      "[[0. 0. 0. ... 0. 0. 0.]\n",
      " [0. 0. 0. ... 0. 0. 0.]\n",
      " [0. 0. 1. ... 0. 0. 0.]\n",
      " ...\n",
      " [0. 0. 0. ... 0. 0. 0.]\n",
      " [0. 0. 0. ... 0. 0. 0.]\n",
      " [0. 0. 0. ... 0. 1. 0.]]\n"
     ]
    }
   ],
   "source": [
    "# ENCODE Y\n",
    "encode_y = np.eye(25)[y]\n",
    "print(encode_y)"
   ]
  },
  {
   "cell_type": "code",
   "execution_count": 99,
   "metadata": {},
   "outputs": [],
   "source": [
    "# SET WEIGHTS\n",
    "weights = {\n",
    "    'w1' : tf.Variable(tf.random_normal([784, 256])),\n",
    "    'w2' : tf.Variable(tf.random_normal([256, 256])),\n",
    "    'w3' : tf.Variable(tf.random_normal([256, 256])),\n",
    "    'w4' : tf.Variable(tf.random_normal([256, 256])),\n",
    "    'w5' : tf.Variable(tf.random_normal([256, 256])),\n",
    "    'w6' : tf.Variable(tf.random_normal([256, 256])),\n",
    "    'w7' : tf.Variable(tf.random_normal([256, 256])),\n",
    "    'w8' : tf.Variable(tf.random_normal([256, 256])),\n",
    "    'w9' : tf.Variable(tf.random_normal([256, 256])),\n",
    "    'w10' : tf.Variable(tf.random_normal([256, 256])),\n",
    "    '_w' : tf.Variable(tf.random_normal([256, 25]))\n",
    "}"
   ]
  },
  {
   "cell_type": "code",
   "execution_count": 100,
   "metadata": {},
   "outputs": [],
   "source": [
    "# SET BIASES\n",
    "biases = {\n",
    "    'b1' : tf.Variable(tf.random_normal([256])),\n",
    "    'b2' : tf.Variable(tf.random_normal([256])),\n",
    "    'b3' : tf.Variable(tf.random_normal([256])),\n",
    "    'b4' : tf.Variable(tf.random_normal([256])),\n",
    "    'b5' : tf.Variable(tf.random_normal([256])),\n",
    "    'b6' : tf.Variable(tf.random_normal([256])),\n",
    "    'b7' : tf.Variable(tf.random_normal([256])),\n",
    "    'b8' : tf.Variable(tf.random_normal([256])),\n",
    "    'b9' : tf.Variable(tf.random_normal([256])),\n",
    "    'b10' : tf.Variable(tf.random_normal([256])),\n",
    "    '_b' : tf.Variable(tf.random_normal([25]))\n",
    "}"
   ]
  },
  {
   "cell_type": "code",
   "execution_count": 101,
   "metadata": {},
   "outputs": [],
   "source": [
    "# DEFINE MLP NETWORK\n",
    "def neural_network(x, weights, biases):\n",
    "    layer1 = tf.nn.relu(tf.add(tf.matmul(x, weights['w1']), biases['b1']))\n",
    "    layer2 = tf.nn.relu(tf.add(tf.matmul(layer1, weights['w2']), biases['b2']))\n",
    "    layer3 = tf.nn.relu(tf.add(tf.matmul(layer2, weights['w3']), biases['b3']))\n",
    "    layer4 = tf.nn.relu(tf.add(tf.matmul(layer3, weights['w4']), biases['b4']))\n",
    "    layer5 = tf.nn.relu(tf.add(tf.matmul(layer4, weights['w5']), biases['b5']))\n",
    "    layer6 = tf.nn.relu(tf.add(tf.matmul(layer5, weights['w6']), biases['b6']))\n",
    "    layer7 = tf.nn.relu(tf.add(tf.matmul(layer6, weights['w7']), biases['b7']))\n",
    "    layer8 = tf.nn.relu(tf.add(tf.matmul(layer7, weights['w8']), biases['b8']))\n",
    "    layer9 = tf.nn.relu(tf.add(tf.matmul(layer8, weights['w9']), biases['b9']))\n",
    "    layer10 = tf.nn.relu(tf.add(tf.matmul(layer9, weights['w10']), biases['b10']))\n",
    "    layer_out = tf.matmul(layer10, weights['_w']) + biases['_b']\n",
    "    return layer_out"
   ]
  },
  {
   "cell_type": "code",
   "execution_count": 102,
   "metadata": {},
   "outputs": [],
   "source": [
    "# NETWORK X AND Y\n",
    "_x = tf.placeholder('float', [None, 784])\n",
    "_y = tf.placeholder('float', [None, 25])"
   ]
  },
  {
   "cell_type": "code",
   "execution_count": 103,
   "metadata": {},
   "outputs": [],
   "source": [
    "# SET PARAMETERS\n",
    "learning_rate = 0.002\n",
    "batch_size = 128\n",
    "epochs = 5000\n",
    "step = 500"
   ]
  },
  {
   "cell_type": "code",
   "execution_count": 104,
   "metadata": {},
   "outputs": [],
   "source": [
    "# SET UP NN\n",
    "logits = neural_network(_x, weights, biases)\n",
    "optimizer = tf.train.AdamOptimizer(learning_rate = learning_rate)"
   ]
  },
  {
   "cell_type": "code",
   "execution_count": 105,
   "metadata": {},
   "outputs": [],
   "source": [
    "# SET LOSS AND TRAINING OPTIMIZER\n",
    "loss_optimizer = tf.reduce_mean(tf.nn.softmax_cross_entropy_with_logits(logits = logits, labels = _y))\n",
    "train_optimizer = optimizer.minimize(loss_optimizer)"
   ]
  },
  {
   "cell_type": "code",
   "execution_count": 106,
   "metadata": {},
   "outputs": [],
   "source": [
    "# SET PREDICTION AND ACCURACY\n",
    "correct_prediction = tf.equal(tf.argmax(logits, 1), tf.argmax(_y, 1))\n",
    "accuracy = tf.reduce_mean(tf.cast(correct_prediction, tf.float32))"
   ]
  },
  {
   "cell_type": "code",
   "execution_count": 107,
   "metadata": {},
   "outputs": [],
   "source": [
    "# SET UP SESSION\n",
    "init = tf.global_variables_initializer()\n",
    "sess = tf.Session()\n",
    "sess.run(init)\n",
    "cost_hist, acc_hist = [], []"
   ]
  },
  {
   "cell_type": "code",
   "execution_count": 108,
   "metadata": {},
   "outputs": [],
   "source": [
    "# GET NEXT BATCH\n",
    "def next_batch(batch_size, data, labels):\n",
    "    idx = np.arange(0, len(data))\n",
    "    np.random.shuffle(idx)\n",
    "    idx = idx[: batch_size]\n",
    "    data_shuffle = [data[i] for i in idx]\n",
    "    labels_shuffle = [labels[i] for i in idx]\n",
    "    return np.asarray(data_shuffle), np.asarray(labels_shuffle)"
   ]
  },
  {
   "cell_type": "code",
   "execution_count": 109,
   "metadata": {},
   "outputs": [
    {
     "name": "stdout",
     "output_type": "stream",
     "text": [
      "Epoch 500: Cost: 111046920000.0, Accuracy: 93.75\n",
      "Epoch 1000: Cost: 72546420000.0, Accuracy: 94.53125\n",
      "Epoch 1500: Cost: 42872443000.0, Accuracy: 94.53125\n",
      "Epoch 2000: Cost: 10949607000.0, Accuracy: 98.4375\n",
      "Epoch 2500: Cost: 18820469000.0, Accuracy: 99.21875\n",
      "Epoch 3000: Cost: 1780408300.0, Accuracy: 99.21875\n",
      "Epoch 3500: Cost: 21845967000.0, Accuracy: 98.4375\n",
      "Epoch 4000: Cost: 29213372000.0, Accuracy: 95.3125\n",
      "Epoch 4500: Cost: 10486497000.0, Accuracy: 99.21875\n",
      "Epoch 5000: Cost: 10864312000.0, Accuracy: 99.21875\n",
      "Accuracy on train data: 97.39209413528442 %\n"
     ]
    }
   ],
   "source": [
    "# USE SESSION\n",
    "for epoch in range(1, epochs+1):\n",
    "    batch_x, batch_y = next_batch(batch_size, x, encode_y)\n",
    "    feed_dict = { _x : batch_x, _y : batch_y }\n",
    "    sess.run(train_optimizer, feed_dict)\n",
    "        \n",
    "    if epoch % step == 0:\n",
    "        c, acc = sess.run([loss_optimizer, accuracy], feed_dict)\n",
    "        acc = acc*100\n",
    "        cost_hist.append(c)\n",
    "        acc_hist.append(acc)\n",
    "        print('Epoch ' + str(epoch) + ': Cost: ' + str(c) + ', Accuracy: ' + str(acc))\n",
    "W = sess.run(weights)\n",
    "B = sess.run(biases)\n",
    "print('Accuracy on train data: ' + str(sess.run(accuracy, feed_dict = { _x : x, _y : encode_y }) * 100) + ' %')"
   ]
  },
  {
   "cell_type": "code",
   "execution_count": 110,
   "metadata": {},
   "outputs": [],
   "source": [
    "def neural_network(x, weights, biases):\n",
    "    layer1 = np.matmul(x, weights['w1']) + biases['b1']\n",
    "    layer2 = np.matmul(layer1, weights['w2']) + biases['b2']\n",
    "    layer3 = np.matmul(layer2, weights['w3']) + biases['b3']\n",
    "    layer4 = np.matmul(layer3, weights['w4']) + biases['b4']\n",
    "    layer5 = np.matmul(layer4, weights['w5']) + biases['b5']\n",
    "    layer6 = np.matmul(layer5, weights['w6']) + biases['b6']\n",
    "    layer7 = np.matmul(layer6, weights['w7']) + biases['b7']\n",
    "    layer8 = np.matmul(layer7, weights['w8']) + biases['b8']\n",
    "    layer9 = np.matmul(layer8, weights['w9']) + biases['b9']\n",
    "    layer10 = np.matmul(layer9, weights['w10']) + biases['b10']\n",
    "    layer_out = np.matmul(layer10, weights['_w']) + biases['_b']\n",
    "    return layer_out"
   ]
  },
  {
   "cell_type": "code",
   "execution_count": 111,
   "metadata": {},
   "outputs": [
    {
     "data": {
      "image/png": "[encoded data removed]",
      "text/plain": [
       "<Figure size 432x288 with 1 Axes>"
      ]
     },
     "metadata": {
      "needs_background": "light"
     },
     "output_type": "display_data"
    }
   ],
   "source": [
    "plt.plot(list(range(len(cost_hist))), cost_hist)\n",
    "plt.title(\"Training Cost\")\n",
    "plt.show()"
   ]
  },
  {
   "cell_type": "code",
   "execution_count": 112,
   "metadata": {},
   "outputs": [
    {
     "data": {
      "image/png": "[encoded data removed]",
      "text/plain": [
       "<Figure size 432x288 with 1 Axes>"
      ]
     },
     "metadata": {
      "needs_background": "light"
     },
     "output_type": "display_data"
    }
   ],
   "source": [
    "plt.plot(list(range(len(acc_hist))), acc_hist)\n",
    "plt.title(\"Training Accuracy\")\n",
    "plt.show()"
   ]
  },
  {
   "cell_type": "code",
   "execution_count": 113,
   "metadata": {},
   "outputs": [],
   "source": [
    "# GET PREDICTIONS\n",
    "def prediction(x, w, b):\n",
    "    pred = neural_network(x, w, b)\n",
    "    images, predictions = [], []\n",
    "    for i in x:\n",
    "        images.append(i.reshape(28, 28))\n",
    "    for i in pred:\n",
    "        predictions.append(list(i))\n",
    "    predictions = [chr(int(i.index(max(i))) + ord('A')) for i in predictions]\n",
    "    return (images, predictions)"
   ]
  },
  {
   "cell_type": "code",
   "execution_count": 114,
   "metadata": {},
   "outputs": [],
   "source": [
    "images, preds = prediction(x, W, B)"
   ]
  },
  {
   "cell_type": "code",
   "execution_count": 128,
   "metadata": {},
   "outputs": [
    {
     "data": {
      "image/png": "[encoded data removed]",
      "text/plain": [
       "<Figure size 432x288 with 1 Axes>"
      ]
     },
     "metadata": {
      "needs_background": "light"
     },
     "output_type": "display_data"
    }
   ],
   "source": [
    "# SHOW A PREDICTION\n",
    "plt.imshow(images[1])\n",
    "plt.title(preds[1])\n",
    "plt.show()"
   ]
  },
  {
   "cell_type": "code",
   "execution_count": 116,
   "metadata": {},
   "outputs": [
    {
     "name": "stdout",
     "output_type": "stream",
     "text": [
      "Feature matrix:\n",
      " [[149 149 150 ... 112 120 107]\n",
      " [126 128 131 ... 184 182 180]\n",
      " [ 85  88  92 ... 225 224 222]\n",
      " ...\n",
      " [190 191 190 ... 211 209 208]\n",
      " [201 205 208 ...  67  70  63]\n",
      " [173 174 173 ... 195 193 192]] \n",
      "\n"
     ]
    }
   ],
   "source": [
    "# SHOW TESTING MATRIX\n",
    "x_test = testing.iloc[:, 1:].values\n",
    "print('Feature matrix:\\n', x_test, '\\n')"
   ]
  },
  {
   "cell_type": "code",
   "execution_count": 117,
   "metadata": {},
   "outputs": [
    {
     "name": "stdout",
     "output_type": "stream",
     "text": [
      "Labels:\n",
      " [ 6  5 10 ...  2  4  2]\n"
     ]
    }
   ],
   "source": [
    "# SHOW TESTING LABELS\n",
    "y_test = testing.iloc[:, :1].values.flatten()\n",
    "print('Labels:\\n', y_test)"
   ]
  },
  {
   "cell_type": "code",
   "execution_count": null,
   "metadata": {},
   "outputs": [],
   "source": [
    "# NETWORK X AND Y\n",
    "_x_test = tf.placeholder('float', [None, 784])\n",
    "_y_test = tf.placeholder('float', [None, 25])"
   ]
  },
  {
   "cell_type": "code",
   "execution_count": null,
   "metadata": {},
   "outputs": [],
   "source": [
    "# ENCODE Y TEST\n",
    "encode_y_test = np.eye(25)[y_test]\n",
    "print(encode_y_test)"
   ]
  },
  {
   "cell_type": "code",
   "execution_count": null,
   "metadata": {},
   "outputs": [],
   "source": [
    "# USE SESSION FOR TESTING DATA\n",
    "for epoch in range(1, epochs+1):\n",
    "    batch_x, batch_y = next_batch(batch_size, x_test, encode_y_test)\n",
    "    feed_dict = { _x_test : batch_x, _y_test : batch_y }\n",
    "    sess.run(train_optimizer, feed_dict)\n",
    "        \n",
    "    if epoch % step == 0:\n",
    "        c, acc = sess.run([loss_optimizer, accuracy], feed_dict)\n",
    "        acc = acc*100\n",
    "        cost_hist.append(c)\n",
    "        acc_hist.append(acc)\n",
    "        print('Epoch ' + str(epoch) + ': Cost: ' + str(c) + ', Accuracy: ' + str(acc))\n",
    "W_test = sess.run(weights)\n",
    "B_test = sess.run(biases)\n",
    "print('Accuracy on test data: ' + str(sess.run(accuracy, feed_dict = { _x_test : x_test, _y_test : encode_y_test }) * 100) + ' %')"
   ]
  },
  {
   "cell_type": "code",
   "execution_count": null,
   "metadata": {},
   "outputs": [],
   "source": [
    "plt.plot(list(range(len(cost_hist))), cost_hist)\n",
    "plt.title(\"Testing Cost\")\n",
    "plt.show()"
   ]
  },
  {
   "cell_type": "code",
   "execution_count": null,
   "metadata": {},
   "outputs": [],
   "source": [
    "plt.plot(list(range(len(acc_hist))), acc_hist)\n",
    "plt.title(\"Testing Accuracy\")\n",
    "plt.show()"
   ]
  },
  {
   "cell_type": "code",
   "execution_count": null,
   "metadata": {},
   "outputs": [],
   "source": [
    "images_test, preds_test = prediction(x_test, W_test, B_test)"
   ]
  },
  {
   "cell_type": "code",
   "execution_count": null,
   "metadata": {},
   "outputs": [],
   "source": [
    "# SHOW A PREDICTION\n",
    "plt.imshow(images_test[1])\n",
    "plt.title(preds_test[1])\n",
    "plt.show()"
   ]
  },
  {
   "cell_type": "code",
   "execution_count": null,
   "metadata": {},
   "outputs": [],
   "source": []
  }
 ],
 "metadata": {
  "kernelspec": {
   "display_name": "Python 3",
   "language": "python",
   "name": "python3"
  },
  "language_info": {
   "codemirror_mode": {
    "name": "ipython",
    "version": 3
   },
   "file_extension": ".py",
   "mimetype": "text/x-python",
   "name": "python",
   "nbconvert_exporter": "python",
   "pygments_lexer": "ipython3",
   "version": "3.7.3"
  }
 },
 "nbformat": 4,
 "nbformat_minor": 2
}
