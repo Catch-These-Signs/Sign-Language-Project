{
 "cells": [
  {
   "cell_type": "code",
   "execution_count": 62,
   "metadata": {},
   "outputs": [
    {
     "name": "stdout",
     "output_type": "stream",
     "text": [
      "WARNING:tensorflow:From C:\\Users\\Devon\\Anaconda3\\lib\\site-packages\\tensorflow_core\\python\\compat\\v2_compat.py:65: disable_resource_variables (from tensorflow.python.ops.variable_scope) is deprecated and will be removed in a future version.\n",
      "Instructions for updating:\n",
      "non-resource variables are not supported in the long term\n"
     ]
    }
   ],
   "source": [
    "import os\n",
    "import numpy as np\n",
    "import pandas as pd\n",
    "import tensorflow.compat.v1 as tf\n",
    "tf.disable_v2_behavior()\n",
    "import matplotlib.pyplot as plt"
   ]
  },
  {
   "cell_type": "code",
   "execution_count": 110,
   "metadata": {},
   "outputs": [],
   "source": [
    "# GET DATA\n",
    "os.chdir(\"C:/users/devon/documents/github/sign-language-project/project data/sign_mnist_train.csv\")\n",
    "train = pd.read_csv(\"sign_mnist_train.csv\")"
   ]
  },
  {
   "cell_type": "code",
   "execution_count": 111,
   "metadata": {},
   "outputs": [
    {
     "name": "stdout",
     "output_type": "stream",
     "text": [
      "   label  pixel1  pixel2  pixel3  pixel4  pixel5  pixel6  pixel7  pixel8  \\\n",
      "0      3     107     118     127     134     139     143     146     150   \n",
      "1      6     155     157     156     156     156     157     156     158   \n",
      "2      2     187     188     188     187     187     186     187     188   \n",
      "3      2     211     211     212     212     211     210     211     210   \n",
      "4     13     164     167     170     172     176     179     180     184   \n",
      "\n",
      "   pixel9  ...  pixel775  pixel776  pixel777  pixel778  pixel779  pixel780  \\\n",
      "0     153  ...       207       207       207       207       206       206   \n",
      "1     158  ...        69       149       128        87        94       163   \n",
      "2     187  ...       202       201       200       199       198       199   \n",
      "3     210  ...       235       234       233       231       230       226   \n",
      "4     185  ...        92       105       105       108       133       163   \n",
      "\n",
      "   pixel781  pixel782  pixel783  pixel784  \n",
      "0       206       204       203       202  \n",
      "1       175       103       135       149  \n",
      "2       198       195       194       195  \n",
      "3       225       222       229       163  \n",
      "4       157       163       164       179  \n",
      "\n",
      "[5 rows x 785 columns]\n"
     ]
    }
   ],
   "source": [
    "# VIEW RAW DATA\n",
    "print(train.head())"
   ]
  },
  {
   "cell_type": "code",
   "execution_count": 112,
   "metadata": {
    "scrolled": true
   },
   "outputs": [
    {
     "name": "stdout",
     "output_type": "stream",
     "text": [
      "Feature matrix:\n",
      " [[107 118 127 ... 204 203 202]\n",
      " [155 157 156 ... 103 135 149]\n",
      " [187 188 188 ... 195 194 195]\n",
      " ...\n",
      " [174 174 174 ... 202 200 200]\n",
      " [177 181 184 ...  64  87  93]\n",
      " [179 180 180 ... 205 209 215]] \n",
      "\n"
     ]
    }
   ],
   "source": [
    "# SHOW MATRIX\n",
    "x = data.iloc[:, 1:].values\n",
    "print('Feature matrix:\\n', x, '\\n')"
   ]
  },
  {
   "cell_type": "code",
   "execution_count": 113,
   "metadata": {},
   "outputs": [
    {
     "name": "stdout",
     "output_type": "stream",
     "text": [
      "Labels:\n",
      " [ 3  6  2 ... 18 17 23]\n"
     ]
    }
   ],
   "source": [
    "# SHOW LABELS\n",
    "y = data.iloc[:, :1].values.flatten()\n",
    "print('Labels:\\n', y)"
   ]
  },
  {
   "cell_type": "code",
   "execution_count": 114,
   "metadata": {},
   "outputs": [
    {
     "data": {
      "image/png": "[encoded data removed]",
      "text/plain": [
       "<Figure size 432x288 with 1 Axes>"
      ]
     },
     "metadata": {
      "needs_background": "light"
     },
     "output_type": "display_data"
    }
   ],
   "source": [
    "# VIEW A PIECE OF THE DATA\n",
    "plt.title(str(y[100]))\n",
    "plt.imshow(x[100].reshape(28, 28), cmap = 'gray')\n",
    "plt.show()"
   ]
  },
  {
   "cell_type": "code",
   "execution_count": 115,
   "metadata": {},
   "outputs": [
    {
     "name": "stdout",
     "output_type": "stream",
     "text": [
      "[[0. 0. 0. ... 0. 0. 0.]\n",
      " [0. 0. 0. ... 0. 0. 0.]\n",
      " [0. 0. 1. ... 0. 0. 0.]\n",
      " ...\n",
      " [0. 0. 0. ... 0. 0. 0.]\n",
      " [0. 0. 0. ... 0. 0. 0.]\n",
      " [0. 0. 0. ... 0. 1. 0.]]\n"
     ]
    }
   ],
   "source": [
    "# ENCODE Y\n",
    "encode_y = np.eye(25)[y]\n",
    "print(encode_y)"
   ]
  },
  {
   "cell_type": "code",
   "execution_count": 116,
   "metadata": {},
   "outputs": [],
   "source": [
    "# SET WEIGHTS\n",
    "weights = {\n",
    "    'w1' : tf.Variable(tf.random_normal([784, 256])),\n",
    "    'w2' : tf.Variable(tf.random_normal([256, 256])),\n",
    "    'w3' : tf.Variable(tf.random_normal([256, 256])),\n",
    "    'w4' : tf.Variable(tf.random_normal([256, 256])),\n",
    "    'w5' : tf.Variable(tf.random_normal([256, 256])),\n",
    "    '_w' : tf.Variable(tf.random_normal([256, 25]))\n",
    "}"
   ]
  },
  {
   "cell_type": "code",
   "execution_count": 117,
   "metadata": {},
   "outputs": [],
   "source": [
    "# SET BIASES\n",
    "biases = {\n",
    "    'b1' : tf.Variable(tf.random_normal([256])),\n",
    "    'b2' : tf.Variable(tf.random_normal([256])),\n",
    "    'b3' : tf.Variable(tf.random_normal([256])),\n",
    "    'b4' : tf.Variable(tf.random_normal([256])),\n",
    "    'b5' : tf.Variable(tf.random_normal([256])),\n",
    "    '_b' : tf.Variable(tf.random_normal([25]))\n",
    "}"
   ]
  },
  {
   "cell_type": "code",
   "execution_count": 134,
   "metadata": {},
   "outputs": [],
   "source": [
    "# NETWORK X AND Y\n",
    "_x = tf.placeholder('float', [None, 784])\n",
    "_y = tf.placeholder('float', [None, 25])"
   ]
  },
  {
   "cell_type": "code",
   "execution_count": 135,
   "metadata": {},
   "outputs": [],
   "source": [
    "# NEURAL NETWORK\n",
    "def neural_network(x, weights, biases):\n",
    "    layer1 = tf.nn.relu(tf.add(tf.matmul(x, weights['w1']), biases['b1']))\n",
    "    layer2 = tf.nn.relu(tf.add(tf.matmul(layer1, weights['w2']), biases['b2']))\n",
    "    layer3 = tf.nn.relu(tf.add(tf.matmul(layer2, weights['w3']), biases['b3']))\n",
    "    layer4 = tf.nn.relu(tf.add(tf.matmul(layer3, weights['w4']), biases['b4']))\n",
    "    layer5 = tf.nn.relu(tf.add(tf.matmul(layer4, weights['w5']), biases['b5']))\n",
    "    layer_out = tf.matmul(layer5, weights['_w']) + biases['_b']\n",
    "    return layer_out"
   ]
  },
  {
   "cell_type": "code",
   "execution_count": 136,
   "metadata": {},
   "outputs": [],
   "source": [
    "# NEXT BATCH\n",
    "def next_batch(batch_size, data, labels):\n",
    "    idx = np.arange(0, len(data))\n",
    "    np.random.shuffle(idx)\n",
    "    idx = idx[: batch_size]\n",
    "    data_shuffle = [data[i] for i in idx]\n",
    "    labels_shuffle = [labels[i] for i in idx]\n",
    "    return np.asarray(data_shuffle), np.asarray(labels_shuffle)"
   ]
  },
  {
   "cell_type": "code",
   "execution_count": 137,
   "metadata": {},
   "outputs": [],
   "source": [
    "# PREDICTIONS\n",
    "def get_predictions(x, w, b):\n",
    "    pred = neural_network(x, w, b)\n",
    "    images, predictions = [], []\n",
    "    for i in x:\n",
    "        images.append(i.reshape(28, 28))\n",
    "    for i in pred:\n",
    "        predictions.append(list(i))\n",
    "    predictions = [chr(int(i.index(max(i))) + ord('A')) for i in predictions]\n",
    "    return (images, predictions)"
   ]
  },
  {
   "cell_type": "code",
   "execution_count": 131,
   "metadata": {},
   "outputs": [],
   "source": [
    "# SET PARAMETERS\n",
    "learning_rate = 0.002\n",
    "batch_size = 128\n",
    "epochs = 5000\n",
    "step = 500"
   ]
  },
  {
   "cell_type": "code",
   "execution_count": 126,
   "metadata": {},
   "outputs": [],
   "source": [
    "# SET UP OPTIMIZER\n",
    "init = tf.global_variables_initializer()\n",
    "logits = neural_network(_x, weights, biases)\n",
    "optimizer = tf.train.AdamOptimizer(learning_rate = learning_rate)"
   ]
  },
  {
   "cell_type": "code",
   "execution_count": 133,
   "metadata": {},
   "outputs": [],
   "source": [
    "# SET LOSS AND TRAINING OPTIMIZER\n",
    "loss_optimizer = tf.reduce_mean(tf.nn.softmax_cross_entropy_with_logits(logits = logits, labels = _y))\n",
    "training_optimizer = optimizer.minimize(loss_optimizer)"
   ]
  },
  {
   "cell_type": "code",
   "execution_count": 132,
   "metadata": {},
   "outputs": [],
   "source": [
    "# SET PREDICTION AND ACCURACY\n",
    "correct_prediction = tf.equal(tf.argmax(logits, 1), tf.argmax(_y, 1))\n",
    "accuracy = tf.reduce_mean(tf.cast(correct_prediction, tf.float32))"
   ]
  },
  {
   "cell_type": "code",
   "execution_count": null,
   "metadata": {},
   "outputs": [],
   "source": []
  }
 ],
 "metadata": {
  "kernelspec": {
   "display_name": "Python 3",
   "language": "python",
   "name": "python3"
  },
  "language_info": {
   "codemirror_mode": {
    "name": "ipython",
    "version": 3
   },
   "file_extension": ".py",
   "mimetype": "text/x-python",
   "name": "python",
   "nbconvert_exporter": "python",
   "pygments_lexer": "ipython3",
   "version": "3.7.3"
  }
 },
 "nbformat": 4,
 "nbformat_minor": 2
}
